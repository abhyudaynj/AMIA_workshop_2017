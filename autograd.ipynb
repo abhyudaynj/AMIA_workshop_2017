{
 "cells": [
  {
   "cell_type": "code",
   "execution_count": 1,
   "metadata": {
    "scrolled": true
   },
   "outputs": [
    {
     "name": "stdout",
     "output_type": "stream",
     "text": [
      "Loss Variable containing:\n",
      " 4\n",
      "[torch.FloatTensor of size 1x1]\n",
      "\n",
      "Gradient Variable containing:\n",
      "-4\n",
      "[torch.FloatTensor of size 1x1]\n",
      "\n"
     ]
    }
   ],
   "source": [
    "%reset -f\n",
    "import torch\n",
    "from torch.autograd import Variable\n",
    "x=Variable(torch.ones(1,1),requires_grad=True)\n",
    "y= x +3\n",
    "target = 6\n",
    "# Lets minimize a simple squared loss\n",
    "loss = (y-target)**2\n",
    "print(\"Loss\",loss) \n",
    "\n",
    "# Lets look at the differential\n",
    "loss.backward()\n",
    "print(\"Gradient\",x.grad)"
   ]
  },
  {
   "cell_type": "markdown",
   "metadata": {},
   "source": [
    "Loss is not minimum. We can minimize this using Gradient Descent. \n",
    "### Simple gradient descent: \n",
    "Step towards (-) partial differential of loss w.r.t x to reduce the loss\n",
    "\n"
   ]
  },
  {
   "cell_type": "code",
   "execution_count": 2,
   "metadata": {},
   "outputs": [
    {
     "name": "stdout",
     "output_type": "stream",
     "text": [
      "New Parameter Value Variable containing:\n",
      " 1.0400\n",
      "[torch.FloatTensor of size 1x1]\n",
      "\n",
      "New Loss Variable containing:\n",
      " 3.8416\n",
      "[torch.FloatTensor of size 1x1]\n",
      "\n"
     ]
    }
   ],
   "source": [
    "# Step a little towards the minimum\n",
    "x=x-0.01*x.grad\n",
    "x=x.detach()\n",
    "\n",
    "print(\"New Parameter Value\",x)\n",
    "\n",
    "y=x+3\n",
    "loss=(y-target)**2\n",
    "print(\"New Loss\",loss)\n"
   ]
  },
  {
   "cell_type": "code",
   "execution_count": null,
   "metadata": {},
   "outputs": [],
   "source": []
  }
 ],
 "metadata": {
  "kernelspec": {
   "display_name": "Python 3",
   "language": "python",
   "name": "python3"
  },
  "language_info": {
   "codemirror_mode": {
    "name": "ipython",
    "version": 3
   },
   "file_extension": ".py",
   "mimetype": "text/x-python",
   "name": "python",
   "nbconvert_exporter": "python",
   "pygments_lexer": "ipython3",
   "version": "3.5.2"
  }
 },
 "nbformat": 4,
 "nbformat_minor": 2
}
